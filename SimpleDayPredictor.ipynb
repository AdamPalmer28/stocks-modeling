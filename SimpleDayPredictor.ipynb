{
 "cells": [
  {
   "cell_type": "code",
   "execution_count": 1,
   "id": "a731718e",
   "metadata": {},
   "outputs": [],
   "source": [
    "import numpy as np\n",
    "import pandas as pd\n",
    "import yfinance as yf\n",
    "import matplotlib.pyplot as plt\n",
    "\n",
    "import torch\n",
    "import torch.optim as optim\n",
    "import torch.nn as nn\n",
    "import torch.nn.functional as F\n",
    "from torch.utils.data import DataLoader\n",
    "\n",
    "\n",
    "\n",
    "\n",
    "from DataClass import *\n",
    "\n",
    "\n"
   ]
  },
  {
   "cell_type": "code",
   "execution_count": 2,
   "id": "3066dd6e",
   "metadata": {},
   "outputs": [
    {
     "name": "stderr",
     "output_type": "stream",
     "text": [
      "D:\\Documents\\Coding\\Python\\ML exploration\\ANN\\stocks-modeling\\DataClass.py:32: SettingWithCopyWarning: \n",
      "A value is trying to be set on a copy of a slice from a DataFrame\n",
      "\n",
      "See the caveats in the documentation: https://pandas.pydata.org/pandas-docs/stable/user_guide/indexing.html#returning-a-view-versus-a-copy\n",
      "  self.data['Increases'][self.data['next growth'] > 1] = 1\n"
     ]
    }
   ],
   "source": [
    "ticker_tag = 'TSLA'\n",
    "dc = StockData(ticker = ticker_tag, start = '2012-01-01', end = '2022-08-01', interval='1d')"
   ]
  },
  {
   "cell_type": "code",
   "execution_count": 3,
   "id": "7dccc89d",
   "metadata": {},
   "outputs": [
    {
     "data": {
      "text/plain": [
       "Index(['Open', 'High', 'Low', 'Close', 'Volume', 'prev growth', 'next growth',\n",
       "       'Increases', '30 MA', '10 MA'],\n",
       "      dtype='object')"
      ]
     },
     "execution_count": 3,
     "metadata": {},
     "output_type": "execute_result"
    }
   ],
   "source": [
    "dc.data.columns"
   ]
  },
  {
   "cell_type": "code",
   "execution_count": 4,
   "id": "53ff5344",
   "metadata": {},
   "outputs": [
    {
     "data": {
      "text/plain": [
       "[<matplotlib.lines.Line2D at 0x2a67993a340>]"
      ]
     },
     "execution_count": 4,
     "metadata": {},
     "output_type": "execute_result"
    },
    {
     "data": {
      "image/png": "[encoded data removed]",
      "text/plain": [
       "<Figure size 432x288 with 1 Axes>"
      ]
     },
     "metadata": {
      "needs_background": "light"
     },
     "output_type": "display_data"
    }
   ],
   "source": [
    "plt.plot(dc.data.index, dc.data['Open'])\n"
   ]
  },
  {
   "cell_type": "code",
   "execution_count": null,
   "id": "f8922d21",
   "metadata": {},
   "outputs": [],
   "source": [
    "# Data Preps for NN\n",
    "\n",
    "\n",
    "\n"
   ]
  },
  {
   "cell_type": "code",
   "execution_count": 15,
   "id": "40663389",
   "metadata": {},
   "outputs": [
    {
     "name": "stdout",
     "output_type": "stream",
     "text": [
      "Linear(in_features=64, out_features=2, bias=True)\n"
     ]
    }
   ],
   "source": [
    "# basic NN\n",
    "\n",
    "class ANN(nn.Module):\n",
    "    \n",
    "    def __init__(self, input_size):\n",
    "        super(ANN, self).__init__()\n",
    "        \n",
    "        # simple 3 layer model\n",
    "        self.l1 = nn.Linear(input_size, 86) \n",
    "        self.l2 = nn.Linear(86, 64)\n",
    "        self.l3 = nn.Linear(64, 2)\n",
    "\n",
    "    def forward(self, x):\n",
    "        x = F.relu(self.l1(x))\n",
    "        x = F.relu(self.l2(x))\n",
    "        x = self.l3 # needs to be between 0 and 1\n",
    "        return x\n",
    "    "
   ]
  },
  {
   "cell_type": "code",
   "execution_count": 19,
   "id": "2d0bba92",
   "metadata": {},
   "outputs": [],
   "source": [
    "# Set device\n",
    "device = torch.device('cuda' if torch.cuda.is_available() else 'cpu')"
   ]
  },
  {
   "cell_type": "code",
   "execution_count": 20,
   "id": "84ed9394",
   "metadata": {
    "scrolled": true
   },
   "outputs": [],
   "source": [
    "# Paramaters\n",
    "\n",
    "input_size = 10\n",
    "# num_classes = 1\n",
    "learning_rate = 0.001\n",
    "batch_size = 64\n",
    "num_epochs = 1\n",
    "\n",
    "\n",
    "# intialise network\n",
    "\n",
    "model = ANN(input_size = input_size).to(device)\n",
    "\n",
    "\n",
    "# Loss and optimizer\n",
    "\n",
    "criterion = nn.CrossEntropyLoss()\n",
    "optimizer = optim.Adam(model.parameters(), lr=learning_rate)\n"
   ]
  },
  {
   "cell_type": "code",
   "execution_count": null,
   "id": "f157410b",
   "metadata": {},
   "outputs": [],
   "source": [
    "def train(train_dataloader, model, loss_fn, optimizer):\n",
    "    \"Trains the trains data on Neural Network\"\n",
    "    pass"
   ]
  },
  {
   "cell_type": "code",
   "execution_count": null,
   "id": "20410d6f",
   "metadata": {},
   "outputs": [],
   "source": [
    "def test_nn(test_dataloader, model, loss_fn):\n",
    "    \"Tests the test data on Neural Network\"\n",
    "    pass\n"
   ]
  },
  {
   "cell_type": "code",
   "execution_count": null,
   "id": "c7259701",
   "metadata": {},
   "outputs": [],
   "source": [
    "# Train network\n",
    "\n",
    "for epoch in range(num_epochs):\n",
    "    pass\n",
    "\n",
    "    # train network\n",
    "    \n",
    "    # test network - on current epoch\n",
    "    \n",
    "    \n",
    "    "
   ]
  },
  {
   "cell_type": "code",
   "execution_count": null,
   "id": "cda66715",
   "metadata": {},
   "outputs": [],
   "source": []
  },
  {
   "cell_type": "code",
   "execution_count": null,
   "id": "cf5bbec6",
   "metadata": {},
   "outputs": [],
   "source": []
  },
  {
   "cell_type": "code",
   "execution_count": null,
   "id": "0ed019ce",
   "metadata": {},
   "outputs": [],
   "source": []
  },
  {
   "cell_type": "code",
   "execution_count": null,
   "id": "cffbd5b4",
   "metadata": {},
   "outputs": [],
   "source": []
  },
  {
   "cell_type": "code",
   "execution_count": null,
   "id": "a08c7e7c",
   "metadata": {},
   "outputs": [],
   "source": []
  }
 ],
 "metadata": {
  "kernelspec": {
   "display_name": "Python 3 (ipykernel)",
   "language": "python",
   "name": "python3"
  },
  "language_info": {
   "codemirror_mode": {
    "name": "ipython",
    "version": 3
   },
   "file_extension": ".py",
   "mimetype": "text/x-python",
   "name": "python",
   "nbconvert_exporter": "python",
   "pygments_lexer": "ipython3",
   "version": "3.9.12"
  }
 },
 "nbformat": 4,
 "nbformat_minor": 5
}
